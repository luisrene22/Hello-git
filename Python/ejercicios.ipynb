{
 "cells": [
  {
   "attachments": {},
   "cell_type": "markdown",
   "metadata": {},
   "source": [
    "# Ejercicios Python\n",
    "## (Basicos)"
   ]
  },
  {
   "cell_type": "markdown",
   "metadata": {},
   "source": [
    "1. Imprimir \"Hola mundo\" por pantalla.\n",
    "2. Crear dos variables númericas, sumarlas y mostrar el resultado.\n",
    "3. Mostrar el precio del IVA de un producto con un valor de 100.\n",
    "---"
   ]
  },
  {
   "cell_type": "code",
   "execution_count": 10,
   "metadata": {},
   "outputs": [
    {
     "name": "stdout",
     "output_type": "stream",
     "text": [
      "1. Imprimir \"Hola mundo\" por la pantalla.\n",
      "\n",
      "Hola mundo\n",
      "\n",
      "2.Crear dos variables númericas, sumarlas y mostrar el resultado\n",
      "\n",
      "La primera variable es :  6 \n",
      "La segunda variable es :  5\n",
      "La suma de las dos variables da :  11\n",
      "\n",
      "3. Mostrar el precio del IVA de un producto con un valor de 100 y su precio final.\n",
      "\n",
      "El precio del IVA es :  21.0\n",
      "El precio final es :  121.0\n"
     ]
    }
   ],
   "source": [
    "# 1. Imprimir \"Hola mundo\" por la pantalla\n",
    "print(\"1. Imprimir \\\"Hola mundo\\\" por la pantalla.\")\n",
    "print(\"\\nHola mundo\")\n",
    "\n",
    "# 2.Crear dos variables númericas, sumarlas y mostrar el resultado.\n",
    "print(\"\\n2.Crear dos variables númericas, sumarlas y mostrar el resultado\")\n",
    "variable_1 = 6\n",
    "variable_2 = 5\n",
    "print(\"\\nLa primera variable es : \",variable_1,\n",
    "\"\\nLa segunda variable es : \", variable_2)\n",
    "suma = variable_1 + variable_2\n",
    "print(\"La suma de las dos variables da : \", suma)\n",
    "\n",
    "# 3. Mostrar el precio del IVA de un producto con un valor de 100 y su precio final.\n",
    "print(\"\\n3. Mostrar el precio del IVA de un producto con un valor de 100 y su precio final.\")\n",
    "IVA = 0.21\n",
    "precioProducto = 100\n",
    "precioIVA = precioProducto * IVA\n",
    "print(\"\\nEl precio del IVA es : \", precioIVA)\n",
    "print(\"El precio final es : \", (precioProducto + precioIVA))"
   ]
  },
  {
   "cell_type": "markdown",
   "metadata": {},
   "source": [
    "4. De dos números , saber cual es el mayor.\n",
    "5. Crea una variable númerica y si esta entre 0 y 10, <br> mostrar un mensaje indicandolo.\n",
    "6. Añadir al anterior ejercició, que si esta entre 11 y 20, <br> muestre otro mensaje diferente y si esta entre 21 y 30 otro mensaje.\n",
    "---"
   ]
  },
  {
   "cell_type": "code",
   "execution_count": 19,
   "metadata": {},
   "outputs": [
    {
     "name": "stdout",
     "output_type": "stream",
     "text": [
      "4. De dos numeros, saber cual es el mayor\n"
     ]
    },
    {
     "name": "stdout",
     "output_type": "stream",
     "text": [
      "\n",
      "El numero : 500 es mayor que : 101\n",
      "\n",
      "5. Crea una variable númerica y si esta entre 0 y 10, mostrar un mensaje indicandolo.\n",
      "\n",
      "El numero esta entre 0 y 10\n",
      "\n",
      "6. Añadir al anterior ehecrcició, que si esta entre 11 y 20, muestre otro mensaje diferente y si esta entre 21 y 30 otro mensaje.\n",
      "\n",
      "El numero esta entre 11 y 20\n"
     ]
    }
   ],
   "source": [
    "# 4. De dos numeros, saber cual es el mayor\n",
    "print(\"4. De dos numeros, saber cual es el mayor\")\n",
    "numero_1 = int(input(\"Ingresa un numero : \"))\n",
    "numero_2 = int(input(\"Ingresa otro numero : \"))\n",
    "\n",
    "if( numero_1<numero_2 ):\n",
    "    print(\"\\nEl numero :\", numero_1, \"es menor que :\", numero_2)\n",
    "else:\n",
    "    print(\"\\nEl numero :\", numero_1,\"es mayor que :\", numero_2)\n",
    "\n",
    "# 5. Crea una variable númerica y si esta entre 0 y 10,\n",
    "#       mostrar un mensaje indicandolo.\n",
    "print(\"\\n5. Crea una variable númerica y si esta entre 0 y 10, mostrar un mensaje indicandolo.\")\n",
    "numero = 5\n",
    "if(numero >= 0 and numero <= 10):\n",
    "    print(\"\\nEl numero esta entre 0 y 10\")\n",
    "else:\n",
    "    print(\"\\nNo esta en el rango\")\n",
    "\n",
    "# 6. Añadir al anterior ejercició, que si esta entre 11 y 20, muestre otro mensaje diferente y si esta entre 21 y 30 otro mensaje.\n",
    "print(\"\\n6. Añadir al anterior ehecrcició, que si esta entre 11 y 20, muestre otro mensaje diferente y si esta entre 21 y 30 otro mensaje.\")\n",
    "a = int(input(\"\\nIngresa un numero : \"))\n",
    "if(a >= 0 and a <= 10):\n",
    "    print(\"\\nEl numero esta entre 0 y 10\")\n",
    "elif(a >= 11 and a <= 20):\n",
    "    print(\"\\nEl numero esta entre 11 y 20\")\n",
    "elif(a >= 21 and a <= 30):\n",
    "    print(\"\\nEl numero esta entre 21 y 30\")\n",
    "else:\n",
    "    print(\"\\nNo esta en el rango\")\n",
    "\n",
    "# Con este bloque de ejercicios se estudio estructuras condicionales\n",
    "# En especifico el uso de:\n",
    "# 'if', 'elif' y 'else'\n",
    "# Basicamente si se cumple una acción, se llevara acabo una acción\n",
    "'''\n",
    "La estructura basica de un condicional es la siguiente\n",
    "\n",
    "if(condición):\n",
    "    -> Lleva acabo una acción\n",
    "\n",
    "la condición nos regresa un booleano, podemos utilizar dentro de los\n",
    "pararentesis operadores de relación y logicos como 'and' y 'or'\n",
    " '''"
   ]
  },
  {
   "cell_type": "code",
   "execution_count": 9,
   "metadata": {},
   "outputs": [
    {
     "name": "stdout",
     "output_type": "stream",
     "text": [
      "F\n"
     ]
    }
   ],
   "source": []
  },
  {
   "cell_type": "code",
   "execution_count": 2,
   "metadata": {},
   "outputs": [
    {
     "data": {
      "text/plain": [
       "'F'"
      ]
     },
     "execution_count": 2,
     "metadata": {},
     "output_type": "execute_result"
    }
   ],
   "source": []
  }
 ],
 "metadata": {
  "kernelspec": {
   "display_name": "Python 3",
   "language": "python",
   "name": "python3"
  },
  "language_info": {
   "codemirror_mode": {
    "name": "ipython",
    "version": 3
   },
   "file_extension": ".py",
   "mimetype": "text/x-python",
   "name": "python",
   "nbconvert_exporter": "python",
   "pygments_lexer": "ipython3",
   "version": "3.10.6"
  },
  "orig_nbformat": 4
 },
 "nbformat": 4,
 "nbformat_minor": 2
}
