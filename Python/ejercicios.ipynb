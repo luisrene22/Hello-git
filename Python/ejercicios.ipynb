{
 "cells": [
  {
   "attachments": {},
   "cell_type": "markdown",
   "metadata": {},
   "source": [
    "# Ejercicios Python\n",
    "## (Basicos)"
   ]
  },
  {
   "cell_type": "markdown",
   "metadata": {},
   "source": [
    "1. Imprimir \"Hola mundo\" por pantalla.\n",
    "2. Crear dos variables númericas, sumarlas y mostrar el resultado.\n",
    "3. Mostrar el precio del IVA de un producto con un valor de 100.\n",
    "---"
   ]
  },
  {
   "cell_type": "code",
   "execution_count": 10,
   "metadata": {},
   "outputs": [
    {
     "name": "stdout",
     "output_type": "stream",
     "text": [
      "1. Imprimir \"Hola mundo\" por la pantalla.\n",
      "\n",
      "Hola mundo\n",
      "\n",
      "2.Crear dos variables númericas, sumarlas y mostrar el resultado\n",
      "\n",
      "La primera variable es :  6 \n",
      "La segunda variable es :  5\n",
      "La suma de las dos variables da :  11\n",
      "\n",
      "3. Mostrar el precio del IVA de un producto con un valor de 100 y su precio final.\n",
      "\n",
      "El precio del IVA es :  21.0\n",
      "El precio final es :  121.0\n"
     ]
    }
   ],
   "source": [
    "# 1. Imprimir \"Hola mundo\" por la pantalla\n",
    "print(\"1. Imprimir \\\"Hola mundo\\\" por la pantalla.\")\n",
    "print(\"\\nHola mundo\")\n",
    "\n",
    "# 2.Crear dos variables númericas, sumarlas y mostrar el resultado.\n",
    "print(\"\\n2.Crear dos variables númericas, sumarlas y mostrar el resultado\")\n",
    "variable_1 = 6\n",
    "variable_2 = 5\n",
    "print(\"\\nLa primera variable es : \",variable_1,\n",
    "\"\\nLa segunda variable es : \", variable_2)\n",
    "suma = variable_1 + variable_2\n",
    "print(\"La suma de las dos variables da : \", suma)\n",
    "\n",
    "# 3. Mostrar el precio del IVA de un producto con un valor de 100 y su precio final.\n",
    "print(\"\\n3. Mostrar el precio del IVA de un producto con un valor de 100 y su precio final.\")\n",
    "IVA = 0.21\n",
    "precioProducto = 100\n",
    "precioIVA = precioProducto * IVA\n",
    "print(\"\\nEl precio del IVA es : \", precioIVA)\n",
    "print(\"El precio final es : \", (precioProducto + precioIVA))"
   ]
  }
 ],
 "metadata": {
  "kernelspec": {
   "display_name": "Python 3",
   "language": "python",
   "name": "python3"
  },
  "language_info": {
   "codemirror_mode": {
    "name": "ipython",
    "version": 3
   },
   "file_extension": ".py",
   "mimetype": "text/x-python",
   "name": "python",
   "nbconvert_exporter": "python",
   "pygments_lexer": "ipython3",
   "version": "3.10.6"
  },
  "orig_nbformat": 4
 },
 "nbformat": 4,
 "nbformat_minor": 2
}
